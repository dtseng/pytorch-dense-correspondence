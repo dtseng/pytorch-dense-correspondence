{
 "cells": [
  {
   "cell_type": "code",
   "execution_count": null,
   "metadata": {},
   "outputs": [],
   "source": [
    "%matplotlib inline\n",
    "\n",
    "import random\n",
    "import numpy as np\n",
    "import matplotlib.pyplot as plt\n",
    "import os\n",
    "import cv2\n",
    "import torch\n",
    "import dense_correspondence_manipulation.utils.utils as utils\n",
    "utils.add_dense_correspondence_to_python_path()\n",
    "\n",
    "import dense_correspondence\n",
    "from dense_correspondence.evaluation.evaluation import *\n",
    "import dense_correspondence.correspondence_tools.correspondence_plotter as correspondence_plotter\n",
    "from dense_correspondence.dataset.dense_correspondence_dataset_masked import ImageType"
   ]
  },
  {
   "cell_type": "code",
   "execution_count": null,
   "metadata": {},
   "outputs": [],
   "source": [
    "config_filename = os.path.join(utils.getDenseCorrespondenceSourceDir(), 'config', \n",
    "                               'dense_correspondence', 'evaluation', 'lucas_evaluation.yaml')\n",
    "config = utils.getDictFromYamlFilename(config_filename)\n",
    "default_config = utils.get_defaults_config()\n",
    "\n",
    "\n",
    "utils.set_cuda_visible_devices([0])\n",
    "\n",
    "dce = DenseCorrespondenceEvaluation(config)\n",
    "\n",
    "DCE = DenseCorrespondenceEvaluation\n",
    "\n",
    "\n",
    "\n",
    "# network_name = \"standard_3\"\n",
    "network_name = \"normalize_descriptors_4\"\n",
    "# network_name = \"starbot_M_background_0.500_3\"\n",
    "# dcn = dce.load_network_from_config(network_name)\n",
    "# dataset = dcn.load_training_dataset()\n",
    "\n",
    "# network_name = \"baymax_starbot_caterpillar_only_multi_3\"\n",
    "dcn = dce.load_network_from_config(network_name)\n",
    "dataset = dcn.load_training_dataset()\n",
    "\n",
    "\n",
    "# DenseCorrespondenceEvaluation.evaluate_network_qualitative(dcn, dataset=dataset, randomize=True)\n",
    "\n",
    "# DenseCorrespondenceEvaluation.evaluate_network_qualitative_cross_scene(dcn, dataset=dataset)\n"
   ]
  },
  {
   "cell_type": "code",
   "execution_count": null,
   "metadata": {},
   "outputs": [],
   "source": [
    "scene_name = \"2018-04-16-14-25-19\"\n",
    "img_idx = 0\n",
    "rgb, _, mask, _ = dataset.get_rgbd_mask_pose(scene_name, img_idx)\n",
    "rgb_tensor = dataset.rgb_image_to_tensor(rgb)\n",
    "res = dcn.forward_single_image_tensor(rgb_tensor).data.cpu().numpy()\n",
    "print res.shape\n",
    "u = 10\n",
    "v = 100\n",
    "print res[u,v,:]\n",
    "print np.linalg.norm(res[u,v,:])"
   ]
  },
  {
   "cell_type": "code",
   "execution_count": null,
   "metadata": {},
   "outputs": [],
   "source": []
  }
 ],
 "metadata": {
  "kernelspec": {
   "display_name": "Python 2",
   "language": "python",
   "name": "python2"
  },
  "language_info": {
   "codemirror_mode": {
    "name": "ipython",
    "version": 2
   },
   "file_extension": ".py",
   "mimetype": "text/x-python",
   "name": "python",
   "nbconvert_exporter": "python",
   "pygments_lexer": "ipython2",
   "version": "2.7.12"
  }
 },
 "nbformat": 4,
 "nbformat_minor": 2
}
