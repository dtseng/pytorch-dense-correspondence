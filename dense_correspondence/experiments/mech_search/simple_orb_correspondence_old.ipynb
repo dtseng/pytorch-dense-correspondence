{
 "cells": [
  {
   "cell_type": "code",
   "execution_count": 3,
   "metadata": {},
   "outputs": [
    {
     "name": "stdout",
     "output_type": "stream",
     "text": [
      "setting CUDA_VISIBLE_DEVICES =  1,\n"
     ]
    }
   ],
   "source": [
    "import numpy as np\n",
    "import cv2\n",
    "from matplotlib import pyplot as plt\n",
    "from PIL import Image\n",
    "\n",
    "import scipy.misc\n",
    "\n",
    "import dense_correspondence_manipulation.utils.utils as utils\n",
    "utils.add_dense_correspondence_to_python_path()\n",
    "\n",
    "import dense_correspondence\n",
    "from dense_correspondence.evaluation.evaluation import *\n",
    "import dense_correspondence.correspondence_tools.correspondence_plotter as correspondence_plotter\n",
    "import dense_correspondence.correspondence_tools.correspondence_finder as correspondence_finder\n",
    "from dense_correspondence.correspondence_tools.correspondence_finder import random_sample_from_masked_image, pinhole_projection_image_to_world\n",
    "from dense_correspondence.dataset.dense_correspondence_dataset_masked import ImageType\n",
    "from dense_correspondence.network.dense_correspondence_network import DenseCorrespondenceNetwork\n",
    "import dense_correspondence.evaluation.plotting as dc_plotting\n",
    "%matplotlib inline \n",
    "utils.set_cuda_visible_devices([1])"
   ]
  },
  {
   "cell_type": "code",
   "execution_count": 3,
   "metadata": {},
   "outputs": [
    {
     "name": "stdout",
     "output_type": "stream",
     "text": [
      "1.0\n",
      "(480, 640, 3)\n"
     ]
    }
   ],
   "source": [
    "# target_mask = np.load(\"images/targets/{}/target_mask.npy\".format(\"bottle\"))\n",
    "# print(np.max(target_mask))\n",
    "# print(target_mask.shape)"
   ]
  },
  {
   "cell_type": "code",
   "execution_count": 27,
   "metadata": {},
   "outputs": [
    {
     "data": {
      "text/plain": [
       "<Figure size 432x288 with 0 Axes>"
      ]
     },
     "execution_count": 27,
     "metadata": {},
     "output_type": "execute_result"
    },
    {
     "data": {
      "image/png": "[encoded data removed]",
      "text/plain": [
       "<Figure size 432x288 with 1 Axes>"
      ]
     },
     "metadata": {
      "needs_background": "light"
     },
     "output_type": "display_data"
    },
    {
     "data": {
      "image/png": "[encoded data removed]",
      "text/plain": [
       "<Figure size 432x288 with 1 Axes>"
      ]
     },
     "metadata": {
      "needs_background": "light"
     },
     "output_type": "display_data"
    },
    {
     "data": {
      "text/plain": [
       "<Figure size 432x288 with 0 Axes>"
      ]
     },
     "metadata": {},
     "output_type": "display_data"
    }
   ],
   "source": [
    "# test = np.load(\"horse_bottle.npy\")\n",
    "# print(np.unique(test))\n",
    "# mask = (test == 2).astype(np.float)\n",
    "# print(np.max(mask))\n",
    "# mask = np.expand_dims(mask, axis=2)\n",
    "# mask = np.concatenate((mask, mask, mask), axis=2)\n",
    "# print(mask.shape)\n",
    "# plt.imshow(mask, cmap='gray')\n",
    "# np.save(\"images/heaps/horse_bottle/obj2_mask.npy\", mask)\n",
    "\n",
    "# heap_name = \"horse_banana\"\n",
    "# test = np.load(\"images/heaps/{}/obj1_mask.npy\".format(heap_name))\n",
    "# plt.imshow(test, cmap='gray')\n",
    "# plt.figure()\n",
    "# test = np.load(\"images/heaps/{}/obj2_mask.npy\".format(heap_name))\n",
    "# plt.imshow(test, cmap='gray')\n",
    "# plt.figure()"
   ]
  },
  {
   "cell_type": "code",
   "execution_count": 4,
   "metadata": {},
   "outputs": [
    {
     "name": "stderr",
     "output_type": "stream",
     "text": [
      "/home/davidtseng/pytorch-dense-correspondence/env/local/lib/python2.7/site-packages/torch/nn/modules/module.py:482: UserWarning: src is not broadcastable to dst, but they have the same number of elements.  Falling back to deprecated pointwise behavior.\n",
      "  own_state[name].copy_(param)\n"
     ]
    },
    {
     "name": "stdout",
     "output_type": "stream",
     "text": [
      "Using SpartanDataset:\n",
      "   - in train mode\n",
      "   - number of scenes 5\n",
      "   - total images:     18650\n"
     ]
    }
   ],
   "source": [
    "config_filename = os.path.join(utils.getDenseCorrespondenceSourceDir(), 'config', \n",
    "                               'dense_correspondence', 'evaluation', 'evaluation.yaml')\n",
    "config = utils.getDictFromYamlFilename(config_filename)\n",
    "dce = DenseCorrespondenceEvaluation(config)\n",
    "DCE = DenseCorrespondenceEvaluation\n",
    "dcn = dce.load_network_from_config(\"cup_bottlesauce_elephant_cat_pear_unit_8\")\n",
    "dataset = dcn.load_training_dataset()\n",
    "camera_intrinsics = dataset.get_camera_intrinsics(\"elephant\")"
   ]
  },
  {
   "cell_type": "code",
   "execution_count": 8,
   "metadata": {},
   "outputs": [],
   "source": [
    "def match_index_and_norm_diff(query, features, cond=None):\n",
    "    \"\"\"\n",
    "    Assumes that query and features both have shape (N, D).\n",
    "    query: ndarray (D,)\n",
    "    features: ndarray (N, D)    \n",
    "    \"\"\"\n",
    "    \n",
    "    if cond is None: \n",
    "        norm_diffs = np.sqrt(np.sum(np.square(features - query), axis=1)) \n",
    "        \n",
    "    elif cond == \"ppf\":\n",
    "        f1 = features[:, 1:]\n",
    "        D = f1.shape[1]\n",
    "        f2 = np.concatenate((f1[:, D//2:], f1[:, :D//2]), axis=1)\n",
    "                \n",
    "        norm_diffs1 = np.sqrt(np.sum(np.square(f1 - query[1:]), axis=1))\n",
    "        norm_diffs2 = np.sqrt(np.sum(np.square(f2 - query[1:]), axis=1))\n",
    "        norm_diffs = np.minimum(norm_diffs1, norm_diffs2)\n",
    "    \n",
    "        feature_cond = features[:, 0]\n",
    "        query_cond = query[0]\n",
    "        mask = np.logical_and(feature_cond > 5./7*query_cond, feature_cond < 9./7*query_cond).astype(np.float)\n",
    "        norm_diffs = mask * norm_diffs + np.nan_to_num((1-mask) * float(\"inf\") * np.ones(norm_diffs.shape))\n",
    "    else:\n",
    "        assert 1 == 0 \n",
    "        \n",
    "    best_match_index = np.argmin(norm_diffs)\n",
    "    best_match_diff = norm_diffs[best_match_index]\n",
    "    result = np.array([best_match_index, best_match_diff])\n",
    "        \n",
    "    #         candidate_indices = np.argwhere(np.logical_and(ppfs[:,0] > 5/7*ppf_target[0], ppfs[:,0] < 9/7*ppf_target[0])).T[0]\n",
    "\n",
    "        \n",
    "    return result\n",
    "\n",
    "def simple_match(f1, f2, cond=None):\n",
    "    \"\"\"\n",
    "    Simple brute force matching between features1 and features2.\n",
    "    f1: ndarray of shape (N, ... )\n",
    "    f2: ndarray of shape (N, ....)\n",
    "    fn: None, \"ppf\"\n",
    "    Returns indices of matches. Also does some filtering \n",
    "    to make sure that the best match of f1 is the best match of f2. \n",
    "    \"\"\"\n",
    "    \n",
    "    f1 = f1.reshape((f1.shape[0], -1)) \n",
    "    f2 = f2.reshape((f2.shape[0], -1))\n",
    "\n",
    "    f1_matches = np.apply_along_axis(lambda x: match_index_and_norm_diff(x, f2, cond), 1, f1)\n",
    "    f2_matches = np.apply_along_axis(lambda x: match_index_and_norm_diff(x, f1, cond), 1, f2)\n",
    "    \n",
    "    best_matches = []\n",
    "    for i in range(f1_matches.shape[0]):\n",
    "        norm_diff = f1_matches[i, 1]\n",
    "        best_match_index = int(f1_matches[i, 0])\n",
    "        if f2_matches[best_match_index, 0] == i: # If they're the best matches of each other\n",
    "            best_matches.append((i, best_match_index, norm_diff))\n",
    "            \n",
    "    return best_matches\n",
    "\n",
    "\n",
    "def draw_orb_matches(img1, kp1, des1, img2, kp2, des2, match_type=\"hamming\", num_matches=10):\n",
    "    dist = 0.01 # placeholder constant for opencv\n",
    "\n",
    "    if match_type == \"hamming\": \n",
    "        print(\"Using openCV norm_hammings\")\n",
    "        # create BFMatcher object\n",
    "        bf = cv2.BFMatcher(cv2.NORM_HAMMING, crossCheck=True)\n",
    "\n",
    "        # Match descriptors.    \n",
    "        matches = bf.match(des1,des2)\n",
    "    else:\n",
    "        print(\"Using simple match\")\n",
    "        best_matches_lst = simple_match(des1, des2)\n",
    "        matches = [cv2.DMatch(x[0], x[1], x[2]) for x in best_matches_lst]\n",
    "\n",
    "    # Sort them in the order of their distance.\n",
    "    matches = sorted(matches, key = lambda x:x.distance)\n",
    "\n",
    "    # Draw first 10 matches.\n",
    "    img3 = cv2.drawMatches(img1,kp1,img2,kp2,matches[:num_matches], None, flags=2)\n",
    "\n",
    "    plt.figure(figsize = (20, 10))\n",
    "    plt.imshow(img3)\n",
    "    plt.show()\n",
    "    \n",
    "def run_dcn_on_image(dcn, dataset, img):\n",
    "    \"\"\"\n",
    "    Run DCN on PIL img. use of dataset is a hack, just need to ge the descriptor image stats \n",
    "    which actually just uses a constant for std and mean. \n",
    "    \"\"\"\n",
    "    rgb_a_tensor = dataset.rgb_image_to_tensor(img)\n",
    "    res_a = dcn.forward_single_image_tensor(rgb_a_tensor).data.cpu().numpy()\n",
    "    descriptor_image_stats = dcn.descriptor_image_stats\n",
    "    res_a_norm = dc_plotting.normalize_descriptor(res_a, descriptor_image_stats[\"mask_image\"])\n",
    "    return res_a_norm\n",
    "\n",
    "def run_ORB(heap_name, target_name, num_matches=5):\n",
    "    \"\"\"Run baseline ORB. \"\"\"\n",
    "    orb = cv2.ORB_create()\n",
    "\n",
    "    target_img = Image.open(\"images/targets/{}/target_depth.png\".format(target_name)).convert('RGB')\n",
    "    target = np.array(target_img)\n",
    "\n",
    "    # target = target * target_mask\n",
    "\n",
    "    heap_img = Image.open(\"images/heaps/{}/heap_depth.png\".format(heap_name)).convert('RGB')\n",
    "    heap = np.array(heap_img)\n",
    "\n",
    "    kp1, des1 = orb.detectAndCompute(target,None)\n",
    "    kp2, des2 = orb.detectAndCompute(heap,None)\n",
    "    \n",
    "    draw_orb_matches(target, kp1, des1, heap, kp2, des2, num_matches=num_matches)\n",
    "\n",
    "def run_ORB_and_dense_descriptors(dcn, dataset, heap_name, target_name, num_matches=5, image_type=\"depth\"):\n",
    "    \"\"\"Use ORB keypoints + dense descriptors. \"\"\"\n",
    "    orb = cv2.ORB_create()\n",
    "    \n",
    "    if image_type == \"rgb\":\n",
    "        target_img = Image.open(\"images/targets/{}/target_rgb.png\".format(target_name)).convert('RGB')\n",
    "    else:\n",
    "        target_img = Image.open(\"images/targets/{}/target_depth.png\".format(target_name)).convert('RGB')\n",
    "    target = np.array(target_img)\n",
    "    target_descriptors = run_dcn_on_image(dcn, dataset, target_img)\n",
    "    target_mask = np.load(\"images/targets/{}/target_mask.npy\".format(target_name)).astype(np.bool)\n",
    "\n",
    "    if image_type == \"rgb\":\n",
    "        heap_img_rgb = Image.open(\"images/heaps/{}/heap_rgb.png\".format(heap_name)).convert('RGB')\n",
    "    else:\n",
    "        heap_img = Image.open(\"images/heaps/{}/heap_depth.png\".format(heap_name)).convert('RGB')\n",
    "    heap = np.array(heap_img)\n",
    "    heap_descriptors = run_dcn_on_image(dcn, dataset, heap_img)\n",
    "    obj1_mask = np.load(\"images/heaps/{}/obj1_mask.npy\".format(heap_name)).astype(np.bool)\n",
    "    obj2_mask = np.load(\"images/heaps/{}/obj2_mask.npy\".format(heap_name)).astype(np.bool)\n",
    "    \n",
    "    # be careful, OpenCV format is  (u,v) = (right, down)\n",
    "    kp1_map = lambda x: target_descriptors[x[1], x[0]]\n",
    "    kp2_map = lambda x: heap_descriptors[x[1], x[0]]\n",
    "\n",
    "    # # find the keypoints with ORB\n",
    "    kp1 = orb.detect(target,None)\n",
    "    kp1_array = np.array([x.pt for x in kp1]).reshape(-1, 2).astype(np.int)\n",
    "    des1 = np.apply_along_axis(kp1_map, 1, kp1_array)\n",
    "    \n",
    "    kp2 = orb.detect(heap,None)\n",
    "    kp2_array = np.array([x.pt for x in kp2]).reshape(-1, 2).astype(np.int)\n",
    "    des2 = np.apply_along_axis(kp2_map, 1, kp2_array)\n",
    "    draw_orb_matches(target, kp1, des1, heap, kp2, des2, num_matches=num_matches, match_type=\"simple\")\n",
    "\n",
    "def run_dense_descriptor_original_match(dcn, dataset, heap_name, target_name, num_matches=5, patch_size=None, image_type=\"depth\"):\n",
    "    \"\"\"Use the original dense descriptor sampling + matching method\"\"\"\n",
    "    \n",
    "    if image_type == \"rgb\":\n",
    "        target_img = Image.open(\"images/targets/{}/target_rgb.png\".format(target_name)).convert('RGB')\n",
    "    else:\n",
    "        target_img = Image.open(\"images/targets/{}/target_depth.png\".format(target_name)).convert('RGB')\n",
    "    target = np.array(target_img)\n",
    "    target_descriptors = run_dcn_on_image(dcn, dataset, target_img)\n",
    "    target_mask = np.load(\"images/targets/{}/target_mask.npy\".format(target_name)).astype(np.bool)\n",
    "    \n",
    "    if image_type == \"rgb\":\n",
    "        heap_img_rgb = Image.open(\"images/heaps/{}/heap_rgb.png\".format(heap_name)).convert('RGB')\n",
    "    else:\n",
    "        heap_img = Image.open(\"images/heaps/{}/heap_depth.png\".format(heap_name)).convert('RGB')    \n",
    "    heap = np.array(heap_img)\n",
    "    heap_descriptors = run_dcn_on_image(dcn, dataset, heap_img)\n",
    "    heap_mask = np.load(\"images/heaps/{}/heap_mask.npy\".format(heap_name)).astype(np.bool)\n",
    "    \n",
    "    DCE.single_image_pair_qualitative_analysis(dcn, dataset, target, heap, target_mask, heap_mask, num_matches, patch_size)\n",
    "\n",
    "def run_dense_descriptor_original_match_with_filtering(dcn, dataset, heap_name, target_name, top_num_matches=5, image_type=\"depth\"):\n",
    "    \"\"\"Use the original dense descriptor sampling + matching method + some filtering\"\"\"\n",
    "    if image_type == \"rgb\":\n",
    "        target_img = Image.open(\"images/targets/{}/target_rgb.png\".format(target_name)).convert('RGB')\n",
    "    else:\n",
    "        target_img = Image.open(\"images/targets/{}/depth_0.png\".format(target_name)).convert('RGB')\n",
    "    target = np.array(target_img)\n",
    "    target_descriptors = run_dcn_on_image(dcn, dataset, target_img)\n",
    "    target_mask = np.load(\"images/targets/{}/target_mask.npy\".format(target_name)).astype(np.bool)\n",
    "\n",
    "    if image_type == \"rgb\":\n",
    "        heap_img_rgb = Image.open(\"images/heaps/{}/heap_rgb.png\".format(heap_name)).convert('RGB')\n",
    "    else:\n",
    "        heap_img = Image.open(\"images/heaps/{}/heap_depth.png\".format(heap_name)).convert('RGB')    \n",
    "    heap = np.array(heap_img)\n",
    "    heap_descriptors = run_dcn_on_image(dcn, dataset, heap_img)\n",
    "    obj1_mask = np.load(\"images/heaps/{}/obj1_mask.npy\".format(heap_name)).astype(np.bool)\n",
    "    obj2_mask = np.load(\"images/heaps/{}/obj2_mask.npy\".format(heap_name)).astype(np.bool)\n",
    "    \n",
    "    plt.imshow(obj1_mask.astype(np.float))\n",
    "    plt.figure()\n",
    "    plt.imshow(obj2_mask.astype(np.float))\n",
    "    \n",
    "    num_heap_samples = 800\n",
    "    num_target_samples = 400\n",
    "    \n",
    "    obj1_sampled_idx_list = random_sample_from_masked_image(obj1_mask[:, :, 0].astype(np.int), num_heap_samples//2)\n",
    "    obj2_sampled_idx_list = random_sample_from_masked_image(obj2_mask[:, :, 0].astype(np.int),  num_heap_samples//2)\n",
    "    \n",
    "    heap_sampled_idx_list = [np.concatenate((obj1_sampled_idx_list[0], obj2_sampled_idx_list[0])),\n",
    "                            np.concatenate((obj1_sampled_idx_list[1], obj2_sampled_idx_list[1]))]\n",
    "    \n",
    "#     heap_sampled_idx_list = random_sample_from_masked_image(heap_mask[:, :, 0].astype(np.int), num_heap_samples)\n",
    "    target_sampled_idx_list = random_sample_from_masked_image(target_mask[:, :, 0].astype(np.int), num_target_samples)\n",
    "    \n",
    "    \n",
    "    \n",
    "    heap_sample_descriptors = []\n",
    "    for i in range(num_heap_samples):\n",
    "        heap_sample_descriptors.append(heap_descriptors[heap_sampled_idx_list[0][i], heap_sampled_idx_list[1][i], :])\n",
    "    target_sample_descriptors = []\n",
    "    for i in range(num_target_samples):\n",
    "        target_sample_descriptors.append(target_descriptors[target_sampled_idx_list[0][i], target_sampled_idx_list[1][i], :])\n",
    "    heap_sample_descriptors = np.array(heap_sample_descriptors)\n",
    "    target_sample_descriptors = np.array(target_sample_descriptors)\n",
    "    \n",
    "    best_matches_lst = simple_match(target_sample_descriptors, heap_sample_descriptors)\n",
    "    \n",
    "    kp1, kp2, matches = [], [], []\n",
    "    diam = 0.01 \n",
    "    for x, match in enumerate(best_matches_lst):\n",
    "        i, j, dist = match    \n",
    "        kp1.append(cv2.KeyPoint(target_sampled_idx_list[1][i], target_sampled_idx_list[0][i], diam))\n",
    "        kp2.append(cv2.KeyPoint(heap_sampled_idx_list[1][j], heap_sampled_idx_list[0][j], diam))\n",
    "        matches.append(cv2.DMatch(x, x, dist))\n",
    "\n",
    "    matches = sorted(matches, key = lambda x:x.distance)\n",
    "    \n",
    "    img3 = cv2.drawMatches(target,kp1,heap,kp2,matches[:top_num_matches], None, flags=2)\n",
    "    plt.figure(figsize = (20, 10))\n",
    "    plt.imshow(img3)\n",
    "    plt.show()\n",
    "    \n",
    "\n",
    "    \n",
    "def compute_PPF_feature(uv_A, uv_B, img, des, camera_intrinsics):\n",
    "    \"\"\"\n",
    "    Computes PPF feature from uv_A and uv_B. These are in UV (openCV) format. \n",
    "    Camera intrinsics should be in one of the first cells. \n",
    "    \n",
    "    img is the input \"depth rgb\" image. Bc it was generated with img = actual_depth / 0.2, \n",
    "    the actual depth is img * 0.2\n",
    "    \n",
    "    Descriptor is [weight * distance, des_A...., desB....]\n",
    "    \"\"\"\n",
    "    \n",
    "#     if uv_B[0] < uv_A[0]:\n",
    "#         uv_A, uv_B = uv_B, uv_A\n",
    "#     elif uv_B[0] == uv_A[0] and uv_B[1] < uv_A[1]:\n",
    "#         uv_A, uv_B = uv_B, uv_A\n",
    "    \n",
    "    # !! HACK !! \n",
    "    depth_A = 0.2 * img[uv_A[1], uv_A[0], 0]\n",
    "    depth_B = 0.2 * img[uv_B[1], uv_B[1], 0]\n",
    "    des_A = des[uv_A[1], uv_A[0], :]\n",
    "    des_B = des[uv_B[1], uv_B[0], :]\n",
    "    \n",
    "    pos_in_camera_frameA = pinhole_projection_image_to_world(uv_A, depth_A, camera_intrinsics.K)\n",
    "    pos_in_camera_frameB = pinhole_projection_image_to_world(uv_B, depth_B, camera_intrinsics.K)\n",
    "    \n",
    "    distance = np.sqrt(np.sum((pos_in_camera_frameA - pos_in_camera_frameB)**2))\n",
    "#     dist = lambda x, y: np.sqrt((x[0]-y[0])**2 + (x[1]-y[1])**2)\n",
    "#     distance = dist(uv_A, uv_B)\n",
    "    ppf = np.concatenate((np.array([distance]), des_A, des_B))\n",
    "\n",
    "    return ppf\n",
    "\n",
    "\n",
    "def generate_PPF_samples(img, des, mask, num_samples=5):\n",
    "    \"\"\"Generate np.array of shape (N**2 x PPF_dim) sample features. \n",
    "    Returns list of (UV_A, UV_B) samples. \n",
    "    \"\"\"\n",
    "    dist = lambda x, y: np.sqrt((x[0]-y[0])**2 + (x[1]-y[1])**2)\n",
    "    mask = mask[:, :, 0].astype(np.int)    \n",
    "    sampled_idx_list = random_sample_from_masked_image(mask, num_samples)\n",
    "    \n",
    "    # If the list is empty, return an empty list\n",
    "    if len(sampled_idx_list) == 0:\n",
    "        return dataframe_list\n",
    "    \n",
    "    ppf_lst = []\n",
    "    coord_lst = []\n",
    "    \n",
    "    for i in range(num_samples):\n",
    "        for j in range(i+1, num_samples):            \n",
    "            uv_A = [sampled_idx_list[1][i], sampled_idx_list[0][i]]\n",
    "            uv_B = [sampled_idx_list[1][j], sampled_idx_list[0][j]]\n",
    "            if dist(uv_A, uv_B) > 20: # Basic: Increase pixel distance. \n",
    "                                      # TODO: Increase physical spatial difference\n",
    "                                      # TODO: Increase feature space difference\n",
    "                coord_lst.append((uv_A, uv_B))\n",
    "                ppf_lst.append(compute_PPF_feature(uv_A, uv_B, img, des, camera_intrinsics))\n",
    "                \n",
    "    ppf_lst = np.array(ppf_lst)\n",
    "    coord_lst = np.array(coord_lst)\n",
    "    return ppf_lst, coord_lst\n",
    "\n",
    "\n",
    "def run_PPF_match(dcn, dataset, heap_name, target_name, num_top_matches=10, image_type=\"depth\"): \n",
    "    if image_type == \"rgb\":\n",
    "        target_img = Image.open(\"images/targets/{}/target_rgb.png\".format(target_name)).convert('RGB')\n",
    "    else:\n",
    "        target_img = Image.open(\"images/targets/{}/target_depth.png\".format(target_name)).convert('RGB')\n",
    "    target = np.array(target_img)\n",
    "    target_descriptors = run_dcn_on_image(dcn, dataset, target_img)\n",
    "    target_mask = np.load(\"images/targets/{}/target_mask.npy\".format(target_name)).astype(np.bool)\n",
    "\n",
    "    if image_type == \"rgb\":\n",
    "        heap_img = Image.open(\"images/heaps/{}/heap_rgb.png\".format(heap_name)).convert('RGB')\n",
    "    else:\n",
    "        heap_img = Image.open(\"images/heaps/{}/heap_depth.png\".format(heap_name)).convert('RGB')\n",
    "    heap = np.array(heap_img)\n",
    "    heap_descriptors = run_dcn_on_image(dcn, dataset, heap_img)\n",
    "    obj1_mask = np.load(\"images/heaps/{}/obj1_mask.npy\".format(heap_name)).astype(np.bool)\n",
    "    obj2_mask = np.load(\"images/heaps/{}/obj2_mask.npy\".format(heap_name)).astype(np.bool)\n",
    "\n",
    "    ppf_t, coord_t = generate_PPF_samples(target, target_descriptors, target_mask, 100)\n",
    "\n",
    "    # Generate ppfs for each object in the heap\n",
    "    ppfs1, coords1 = generate_PPF_samples(heap, heap_descriptors, obj1_mask, 100)\n",
    "    ppfs2, coords2 = generate_PPF_samples(heap, heap_descriptors, obj2_mask, 100)\n",
    "\n",
    "    # Combine the ppfs. These are NOT sorted by distance yet. Optimize this later. \n",
    "    ppfs = np.concatenate((ppfs1, ppfs2), axis=0)\n",
    "    coords = np.concatenate((coords1, coords2), axis=0)\n",
    "    # sort_by_distance_i = ppfs[:, 0].argsort()\n",
    "    # ppfs, coords = ppfs[sort_by_distance_i], coords[sort_by_distance_i]\n",
    "\n",
    "    best_matches_lst = simple_match(ppf_t, ppfs, cond=\"ppf\")\n",
    "\n",
    "    print(\"# of possible matches: \", len(best_matches_lst))\n",
    "    kp1, kp2, matches = [], [], []\n",
    "    diam = 0.01\n",
    "\n",
    "    for x, match in enumerate(best_matches_lst):\n",
    "        i, j, dist = match    \n",
    "        kp1.append(cv2.KeyPoint(coord_t[i, 0, 0], coord_t[i, 0, 1], diam))\n",
    "        kp1.append(cv2.KeyPoint(coord_t[i, 1, 0], coord_t[i, 1, 1], diam))\n",
    "        kp2.append(cv2.KeyPoint(coords[j, 0, 0], coords[j, 0, 1], diam))\n",
    "        kp2.append(cv2.KeyPoint(coords[j, 1, 0], coords[j, 1, 1], diam))\n",
    "        matches.append(cv2.DMatch(x*2, x*2, dist))\n",
    "        matches.append(cv2.DMatch(x*2+1, x*2+1, dist))\n",
    "\n",
    "    matches = sorted(matches, key = lambda x:x.distance)\n",
    "\n",
    "    img3 = cv2.drawMatches(target,kp1,heap,kp2,matches[:num_top_matches], None, flags=2)\n",
    "\n",
    "    plt.figure(figsize = (20, 10))\n",
    "    plt.imshow(img3)\n",
    "    plt.show()\n",
    "    \n",
    "    \n",
    "def run_all_methods(dcn, dataset, heap_name, obj1_name, obj2_name):\n",
    "    print(\"=======================Basic ORB ============================\")\n",
    "    run_ORB(heap_name, obj1_name, num_matches=10)\n",
    "    run_ORB(heap_name, obj2_name, num_matches=10)\n",
    "    print(\"=======================ORB + dense descriptors=======================\")\n",
    "    run_ORB_and_dense_descriptors(dcn, dataset, heap_name, obj1_name, num_matches=10)\n",
    "    run_ORB_and_dense_descriptors(dcn, dataset, heap_name, obj2_name, num_matches=10)\n",
    "    print(\"=======================Original========================================\")\n",
    "    run_dense_descriptor_original_match(dcn, dataset, heap_name, obj1_name, num_matches=10)\n",
    "    run_dense_descriptor_original_match(dcn, dataset, heap_name, obj2_name, num_matches=10)\n",
    "    print(\"=======================Point Pair Features=======================\")\n",
    "    run_PPF_match(dcn, dataset, heap_name, obj1_name)\n",
    "    run_PPF_match(dcn, dataset, heap_name, obj2_name)\n",
    "    print(\"=======================Original+Filtering==============================\")\n",
    "    run_dense_descriptor_original_match_with_filtering(dcn, dataset, heap_name, obj1_name, 10)\n",
    "    run_dense_descriptor_original_match_with_filtering(dcn, dataset, heap_name, obj2_name, 10)"
   ]
  },
  {
   "cell_type": "code",
   "execution_count": 9,
   "metadata": {},
   "outputs": [
    {
     "name": "stdout",
     "output_type": "stream",
     "text": [
      "normalizing descriptor norm\n",
      "normalizing descriptor norm\n"
     ]
    },
    {
     "data": {
      "image/png": "[encoded data removed]",
      "text/plain": [
       "<Figure size 432x288 with 1 Axes>"
      ]
     },
     "metadata": {
      "needs_background": "light"
     },
     "output_type": "display_data"
    },
    {
     "data": {
      "image/png": "[encoded data removed]",
      "text/plain": [
       "<Figure size 432x288 with 1 Axes>"
      ]
     },
     "metadata": {
      "needs_background": "light"
     },
     "output_type": "display_data"
    },
    {
     "data": {
      "image/png": "[encoded data removed]",
      "text/plain": [
       "<Figure size 1440x720 with 1 Axes>"
      ]
     },
     "metadata": {
      "needs_background": "light"
     },
     "output_type": "display_data"
    }
   ],
   "source": [
    "run_dense_descriptor_original_match_with_filtering(dcn, dataset, \"blackshoes_cat\", \"blackshoes\", 10)"
   ]
  },
  {
   "cell_type": "code",
   "execution_count": null,
   "metadata": {},
   "outputs": [],
   "source": [
    "run_PPF_match(dcn, dataset, \"blackshoes_cat\", \"blackshoes\")"
   ]
  },
  {
   "cell_type": "code",
   "execution_count": null,
   "metadata": {
    "scrolled": false
   },
   "outputs": [],
   "source": [
    "run_all_methods(dcn, dataset, \"elephant_cat\", \"elephant\", \"cat\")"
   ]
  },
  {
   "cell_type": "code",
   "execution_count": null,
   "metadata": {
    "scrolled": false
   },
   "outputs": [],
   "source": [
    "run_all_methods(dcn, dataset, \"blackshoes_cat\", \"blackshoes\", \"cat\")"
   ]
  },
  {
   "cell_type": "code",
   "execution_count": null,
   "metadata": {
    "scrolled": false
   },
   "outputs": [],
   "source": [
    "run_all_methods(dcn, dataset, \"horse_spiky_screw\", \"horse\", \"spiky_screw\")"
   ]
  },
  {
   "cell_type": "code",
   "execution_count": null,
   "metadata": {
    "scrolled": false
   },
   "outputs": [],
   "source": [
    "run_all_methods(dcn, dataset, \"spiky_screw_horse\", \"horse\", \"spiky_screw\")"
   ]
  },
  {
   "cell_type": "code",
   "execution_count": null,
   "metadata": {
    "scrolled": false
   },
   "outputs": [],
   "source": [
    "run_all_methods(dcn, dataset, \"horse_elephant\", \"horse\", \"elephant\")"
   ]
  },
  {
   "cell_type": "code",
   "execution_count": null,
   "metadata": {
    "scrolled": false
   },
   "outputs": [],
   "source": [
    "run_all_methods(dcn, dataset, \"horse_bottle\", \"horse\", \"bottle\")"
   ]
  },
  {
   "cell_type": "code",
   "execution_count": null,
   "metadata": {
    "scrolled": false
   },
   "outputs": [],
   "source": [
    "run_all_methods(dcn, dataset, \"horse_bottle\", \"horse\", \"bottle\")"
   ]
  },
  {
   "cell_type": "code",
   "execution_count": null,
   "metadata": {
    "scrolled": false
   },
   "outputs": [],
   "source": [
    "run_all_methods(dcn, dataset, \"horse_banana\", \"horse\", \"banana\")"
   ]
  },
  {
   "cell_type": "code",
   "execution_count": null,
   "metadata": {
    "scrolled": false
   },
   "outputs": [],
   "source": [
    "run_all_methods(dcn, dataset, \"bottle_banana\", \"bottle\", \"banana\")"
   ]
  }
 ],
 "metadata": {
  "kernelspec": {
   "display_name": "Python 2",
   "language": "python",
   "name": "python2"
  },
  "language_info": {
   "codemirror_mode": {
    "name": "ipython",
    "version": 2
   },
   "file_extension": ".py",
   "mimetype": "text/x-python",
   "name": "python",
   "nbconvert_exporter": "python",
   "pygments_lexer": "ipython2",
   "version": "2.7.12"
  }
 },
 "nbformat": 4,
 "nbformat_minor": 2
}
