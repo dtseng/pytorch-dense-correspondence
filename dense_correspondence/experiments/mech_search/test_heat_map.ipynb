{
 "cells": [
  {
   "cell_type": "code",
   "execution_count": null,
   "metadata": {},
   "outputs": [],
   "source": [
    "import numpy as np\n",
    "import cv2\n",
    "from matplotlib import pyplot as plt\n",
    "from PIL import Image\n",
    "\n",
    "import scipy.misc\n",
    "\n",
    "import dense_correspondence_manipulation.utils.utils as utils\n",
    "utils.add_dense_correspondence_to_python_path()\n",
    "\n",
    "import dense_correspondence\n",
    "from dense_correspondence.evaluation.evaluation import *\n",
    "import dense_correspondence.correspondence_tools.correspondence_plotter as correspondence_plotter\n",
    "import dense_correspondence.correspondence_tools.correspondence_finder as correspondence_finder\n",
    "from dense_correspondence.correspondence_tools.correspondence_finder import random_sample_from_masked_image, pinhole_projection_image_to_world\n",
    "from dense_correspondence.dataset.dense_correspondence_dataset_masked import ImageType\n",
    "from dense_correspondence.network.dense_correspondence_network import DenseCorrespondenceNetwork\n",
    "import dense_correspondence.evaluation.plotting as dc_plotting\n",
    "%matplotlib inline \n",
    "utils.set_cuda_visible_devices([0])"
   ]
  },
  {
   "cell_type": "code",
   "execution_count": null,
   "metadata": {},
   "outputs": [],
   "source": [
    "config_filename = os.path.join(utils.getDenseCorrespondenceSourceDir(), 'config', \n",
    "                               'dense_correspondence', 'evaluation', 'evaluation.yaml')\n",
    "config = utils.getDictFromYamlFilename(config_filename)\n",
    "dce = DenseCorrespondenceEvaluation(config)\n",
    "DCE = DenseCorrespondenceEvaluation\n",
    "# dcn = dce.load_network_from_config(\"cup_bottlesauce_elephant_cat_pear_unit_16\") # this worked pretty well\n",
    "dcn = dce.load_network_from_config(\"thingiverse_multi_rgb_unit_16\") \n",
    "\n",
    "dataset = dcn.load_training_dataset()\n",
    "camera_intrinsics = dataset.get_camera_intrinsics(\"elephant\")"
   ]
  },
  {
   "cell_type": "code",
   "execution_count": null,
   "metadata": {},
   "outputs": [],
   "source": [
    "def run_dense_descriptor_original_match(dcn, dataset, heap_name, target_name, num_matches=5, patch_size=None, image_type=\"depth\"):\n",
    "    \"\"\"Use the original dense descriptor sampling + matching method\"\"\"\n",
    "    \n",
    "    if image_type == \"rgb\":\n",
    "        target_img = Image.open(\"images/targets/{}/target_rgb.png\".format(target_name)).convert('RGB')\n",
    "    else:\n",
    "        target_img = Image.open(\"images/targets/{}/target_depth.png\".format(target_name)).convert('RGB')\n",
    "    target = np.array(target_img)\n",
    "    target_descriptors = run_dcn_on_image(dcn, dataset, target_img)\n",
    "    target_mask = np.load(\"imageseshre`/targets/{}/target_mask.npy\".format(target_name)).astype(np.bool)\n",
    "    \n",
    "    if image_type == \"rgb\":\n",
    "        heap_img_rgb = Image.open(\"images/heaps/{}/heap_rgb.png\".format(heap_name)).convert('RGB')\n",
    "    else:\n",
    "        heap_img = Image.open(\"images/heaps/{}/heap_depth.png\".format(heap_name)).convert('RGB')    \n",
    "    heap = np.array(heap_img)\n",
    "    heap_descriptors = run_dcn_on_image(dcn, dataset, heap_img)\n",
    "    heap_mask = np.load(\"images/heaps/{}/heap_mask.npy\".format(heap_name)).astype(np.bool)\n",
    "    \n",
    "    DCE.single_image_pair_qualitative_analysis(dcn, dataset, target, heap, target_mask, heap_mask, num_matches, patch_size)\n"
   ]
  },
  {
   "cell_type": "code",
   "execution_count": null,
   "metadata": {},
   "outputs": [],
   "source": [
    "# run_dense_descriptor_original_match(dcn, dataset, )\n",
    "heap_num = 5\n",
    "dirname = \"/home/davidtseng/pytorch-dense-correspondence/dense_correspondence/experiments/mech_search/images/heatmap/10_objs_1_0_ratio_perturbed_80deg\"\n",
    "# 80 deg\n",
    "target_img = Image.open(dirname + \"/{}/target/rgb.png\".format(heap_num)).convert('RGB')\n",
    "target = np.array(target_img)\n",
    "target_mask = np.load(dirname + \"/{}/target/mask.npy\".format(heap_num)).astype(np.bool)\n",
    "\n",
    "    \n",
    "heap_img = Image.open(dirname + \"/{}/heap/rgb.png\".format(heap_num)).convert('RGB')\n",
    "heap = np.array(heap_img)\n",
    "heap_mask = np.load(dirname + \"/{}/heap/mask.npy\".format(heap_num)).astype(np.bool)\n",
    "\n",
    "\n",
    "DCE.single_image_pair_qualitative_analysis(dcn, dataset, target, heap, target_mask, heap_mask, num_matches=20, patch_size=None)\n"
   ]
  }
 ],
 "metadata": {
  "kernelspec": {
   "display_name": "Python 2",
   "language": "python",
   "name": "python2"
  },
  "language_info": {
   "codemirror_mode": {
    "name": "ipython",
    "version": 2
   },
   "file_extension": ".py",
   "mimetype": "text/x-python",
   "name": "python",
   "nbconvert_exporter": "python",
   "pygments_lexer": "ipython2",
   "version": "2.7.12"
  }
 },
 "nbformat": 4,
 "nbformat_minor": 2
}
