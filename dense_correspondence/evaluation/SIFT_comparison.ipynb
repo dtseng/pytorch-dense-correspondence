{
 "cells": [
  {
   "cell_type": "code",
   "execution_count": 1,
   "metadata": {},
   "outputs": [
    {
     "name": "stdout",
     "output_type": "stream",
     "text": [
      "setting CUDA_VISIBLE_DEVICES =  0,\n"
     ]
    }
   ],
   "source": [
    "%matplotlib inline\n",
    "import os\n",
    "import cv2\n",
    "import numpy as np\n",
    "import pandas as pd\n",
    "import time\n",
    "import matplotlib.pyplot as plt\n",
    "from PIL import Image\n",
    "import random\n",
    "\n",
    "import dense_correspondence_manipulation.utils.utils as utils\n",
    "\n",
    "utils.add_dense_correspondence_to_python_path()\n",
    "utils.set_cuda_visible_devices([0])\n",
    "\n",
    "from dense_correspondence.evaluation.evaluation import DenseCorrespondenceEvaluation\n",
    "from dense_correspondence.dataset.spartan_dataset_masked import SpartanDataset\n",
    "from dense_correspondence.dataset.dense_correspondence_dataset_masked import ImageType, DenseCorrespondenceDataset\n",
    "import logging\n",
    "logging.basicConfig(level=logging.INFO)\n",
    "\n",
    "DCD = DenseCorrespondenceDataset\n",
    "\n",
    "random.seed(101)\n"
   ]
  },
  {
   "cell_type": "code",
   "execution_count": 2,
   "metadata": {},
   "outputs": [],
   "source": [
    "def get_dataset(yaml_name=\"simulated_elephant.yaml\"):\n",
    "    config_filename = os.path.join(utils.getDenseCorrespondenceSourceDir(), 'config', 'dense_correspondence', \n",
    "                               'dataset', 'composite', yaml_name)\n",
    "\n",
    "    config = utils.getDictFromYamlFilename(config_filename)\n",
    "    dataset = SpartanDataset(config=config)\n",
    "    return dataset"
   ]
  },
  {
   "cell_type": "code",
   "execution_count": 3,
   "metadata": {},
   "outputs": [
    {
     "name": "stdout",
     "output_type": "stream",
     "text": [
      "Using SpartanDataset:\n",
      "   - in train mode\n",
      "   - number of scenes 9\n",
      "   - total images:     3730\n"
     ]
    }
   ],
   "source": [
    "# dataset = SpartanDataset.make_default_10_scenes_drill()\n",
    "dataset = get_dataset(\"caterpillar_only_9.yaml\")\n"
   ]
  },
  {
   "cell_type": "code",
   "execution_count": 4,
   "metadata": {},
   "outputs": [
    {
     "name": "stderr",
     "output_type": "stream",
     "text": [
      "INFO:root:Loading pose data for scene 2018-04-16-14-25-19\n"
     ]
    },
    {
     "name": "stdout",
     "output_type": "stream",
     "text": [
      "(480, 640, 3)\n"
     ]
    }
   ],
   "source": [
    "#### scene_name = \"06_drill_long_downsampled\"\n",
    "scene_name = \"2018-04-16-14-25-19\"\n",
    "img_a_idx = 0\n",
    "# img_b_idx = 201\n",
    "img_b_idx = 453\n",
    "\n",
    "rgb_a, depth_a, mask_a, pose_a = dataset.get_rgbd_mask_pose(scene_name, img_a_idx)\n",
    "rgb_a = np.array(rgb_a)\n",
    "\n",
    "rgb_b, depth_b, mask_b, pose_b = dataset.get_rgbd_mask_pose(scene_name, img_b_idx)\n",
    "rgb_b = np.array(rgb_b)\n",
    "\n",
    "print rgb_b.shape\n",
    "\n"
   ]
  },
  {
   "cell_type": "code",
   "execution_count": 6,
   "metadata": {},
   "outputs": [
    {
     "ename": "AttributeError",
     "evalue": "'module' object has no attribute 'xfeatures2d'",
     "output_type": "error",
     "traceback": [
      "\u001b[0;31m---------------------------------------------------------------------------\u001b[0m",
      "\u001b[0;31mAttributeError\u001b[0m                            Traceback (most recent call last)",
      "\u001b[0;32m<ipython-input-6-d0e3ef299179>\u001b[0m in \u001b[0;36m<module>\u001b[0;34m()\u001b[0m\n\u001b[1;32m      1\u001b[0m \u001b[0mDCE\u001b[0m \u001b[0;34m=\u001b[0m \u001b[0mDenseCorrespondenceEvaluation\u001b[0m\u001b[0;34m\u001b[0m\u001b[0m\n\u001b[1;32m      2\u001b[0m \u001b[0mdce\u001b[0m \u001b[0;34m=\u001b[0m \u001b[0mDenseCorrespondenceEvaluation\u001b[0m\u001b[0;34m.\u001b[0m\u001b[0mmake_default\u001b[0m\u001b[0;34m(\u001b[0m\u001b[0;34m)\u001b[0m\u001b[0;34m\u001b[0m\u001b[0m\n\u001b[0;32m----> 3\u001b[0;31m \u001b[0mreturn_data\u001b[0m \u001b[0;34m=\u001b[0m \u001b[0mDCE\u001b[0m\u001b[0;34m.\u001b[0m\u001b[0msingle_image_pair_sift_analysis\u001b[0m\u001b[0;34m(\u001b[0m\u001b[0mdataset\u001b[0m\u001b[0;34m,\u001b[0m \u001b[0mscene_name\u001b[0m\u001b[0;34m,\u001b[0m \u001b[0mimg_a_idx\u001b[0m\u001b[0;34m,\u001b[0m \u001b[0mimg_b_idx\u001b[0m\u001b[0;34m)\u001b[0m\u001b[0;34m\u001b[0m\u001b[0m\n\u001b[0m\u001b[1;32m      4\u001b[0m \u001b[0mkp1\u001b[0m \u001b[0;34m=\u001b[0m \u001b[0mreturn_data\u001b[0m\u001b[0;34m[\u001b[0m\u001b[0;34m'kp1'\u001b[0m\u001b[0;34m]\u001b[0m\u001b[0;34m\u001b[0m\u001b[0m\n",
      "\u001b[0;32m/home/davidtseng/pytorch-dense-correspondence/dense_correspondence/evaluation/evaluation.pyc\u001b[0m in \u001b[0;36msingle_image_pair_sift_analysis\u001b[0;34m(dataset, scene_name, img_a_idx, img_b_idx, cross_match_threshold, num_matches, visualize, camera_intrinsics_matrix)\u001b[0m\n\u001b[1;32m   1269\u001b[0m         \u001b[0mrgb_b\u001b[0m \u001b[0;34m=\u001b[0m \u001b[0mnp\u001b[0m\u001b[0;34m.\u001b[0m\u001b[0marray\u001b[0m\u001b[0;34m(\u001b[0m\u001b[0mrgb_b\u001b[0m\u001b[0;34m)\u001b[0m \u001b[0;31m# converts PIL image to rgb\u001b[0m\u001b[0;34m\u001b[0m\u001b[0m\n\u001b[1;32m   1270\u001b[0m \u001b[0;34m\u001b[0m\u001b[0m\n\u001b[0;32m-> 1271\u001b[0;31m         \u001b[0mkp1\u001b[0m\u001b[0;34m,\u001b[0m \u001b[0mdes1\u001b[0m\u001b[0;34m,\u001b[0m \u001b[0mgray1\u001b[0m\u001b[0;34m,\u001b[0m \u001b[0mimg_1_kp\u001b[0m \u001b[0;34m=\u001b[0m \u001b[0mDCE\u001b[0m\u001b[0;34m.\u001b[0m\u001b[0mcompute_sift_keypoints\u001b[0m\u001b[0;34m(\u001b[0m\u001b[0mrgb_a\u001b[0m\u001b[0;34m,\u001b[0m \u001b[0mmask_a\u001b[0m\u001b[0;34m)\u001b[0m\u001b[0;34m\u001b[0m\u001b[0m\n\u001b[0m\u001b[1;32m   1272\u001b[0m         \u001b[0mkp2\u001b[0m\u001b[0;34m,\u001b[0m \u001b[0mdes2\u001b[0m\u001b[0;34m,\u001b[0m \u001b[0mgray2\u001b[0m\u001b[0;34m,\u001b[0m \u001b[0mimg_2_kp\u001b[0m \u001b[0;34m=\u001b[0m \u001b[0mDCE\u001b[0m\u001b[0;34m.\u001b[0m\u001b[0mcompute_sift_keypoints\u001b[0m\u001b[0;34m(\u001b[0m\u001b[0mrgb_b\u001b[0m\u001b[0;34m,\u001b[0m \u001b[0mmask_b\u001b[0m\u001b[0;34m)\u001b[0m\u001b[0;34m\u001b[0m\u001b[0m\n\u001b[1;32m   1273\u001b[0m \u001b[0;34m\u001b[0m\u001b[0m\n",
      "\u001b[0;32m/home/davidtseng/pytorch-dense-correspondence/dense_correspondence/evaluation/evaluation.pyc\u001b[0m in \u001b[0;36mcompute_sift_keypoints\u001b[0;34m(img, mask)\u001b[0m\n\u001b[1;32m   1228\u001b[0m             \u001b[0mgray\u001b[0m \u001b[0;34m=\u001b[0m \u001b[0mimg\u001b[0m\u001b[0;34m\u001b[0m\u001b[0m\n\u001b[1;32m   1229\u001b[0m \u001b[0;34m\u001b[0m\u001b[0m\n\u001b[0;32m-> 1230\u001b[0;31m         \u001b[0msift\u001b[0m \u001b[0;34m=\u001b[0m \u001b[0mcv2\u001b[0m\u001b[0;34m.\u001b[0m\u001b[0mxfeatures2d\u001b[0m\u001b[0;34m.\u001b[0m\u001b[0mSIFT_create\u001b[0m\u001b[0;34m(\u001b[0m\u001b[0;34m)\u001b[0m\u001b[0;34m\u001b[0m\u001b[0m\n\u001b[0m\u001b[1;32m   1231\u001b[0m         \u001b[0mkp\u001b[0m \u001b[0;34m=\u001b[0m \u001b[0msift\u001b[0m\u001b[0;34m.\u001b[0m\u001b[0mdetect\u001b[0m\u001b[0;34m(\u001b[0m\u001b[0mgray\u001b[0m\u001b[0;34m,\u001b[0m \u001b[0mmask\u001b[0m\u001b[0;34m)\u001b[0m\u001b[0;34m\u001b[0m\u001b[0m\n\u001b[1;32m   1232\u001b[0m         \u001b[0mkp\u001b[0m\u001b[0;34m,\u001b[0m \u001b[0mdes\u001b[0m \u001b[0;34m=\u001b[0m \u001b[0msift\u001b[0m\u001b[0;34m.\u001b[0m\u001b[0mcompute\u001b[0m\u001b[0;34m(\u001b[0m\u001b[0mgray\u001b[0m\u001b[0;34m,\u001b[0m \u001b[0mkp\u001b[0m\u001b[0;34m)\u001b[0m\u001b[0;34m\u001b[0m\u001b[0m\n",
      "\u001b[0;31mAttributeError\u001b[0m: 'module' object has no attribute 'xfeatures2d'"
     ]
    }
   ],
   "source": [
    "DCE = DenseCorrespondenceEvaluation\n",
    "dce = DenseCorrespondenceEvaluation.make_default()\n",
    "return_data = DCE.single_image_pair_sift_analysis(dataset, scene_name, img_a_idx, img_b_idx)\n",
    "kp1 = return_data['kp1']"
   ]
  },
  {
   "cell_type": "code",
   "execution_count": 7,
   "metadata": {},
   "outputs": [
    {
     "ename": "ValueError",
     "evalue": "Network 10_scenes_drill is not in config file",
     "output_type": "error",
     "traceback": [
      "\u001b[0;31m---------------------------------------------------------------------------\u001b[0m",
      "\u001b[0;31mValueError\u001b[0m                                Traceback (most recent call last)",
      "\u001b[0;32m<ipython-input-7-9efc08fca8c3>\u001b[0m in \u001b[0;36m<module>\u001b[0;34m()\u001b[0m\n\u001b[0;32m----> 1\u001b[0;31m \u001b[0mdcn\u001b[0m \u001b[0;34m=\u001b[0m \u001b[0mdce\u001b[0m\u001b[0;34m.\u001b[0m\u001b[0mload_network_from_config\u001b[0m\u001b[0;34m(\u001b[0m\u001b[0;34m\"10_scenes_drill\"\u001b[0m\u001b[0;34m)\u001b[0m\u001b[0;34m\u001b[0m\u001b[0m\n\u001b[0m\u001b[1;32m      2\u001b[0m \u001b[0mdata\u001b[0m \u001b[0;34m=\u001b[0m \u001b[0mDCE\u001b[0m\u001b[0;34m.\u001b[0m\u001b[0msingle_image_pair_keypoint_analysis\u001b[0m\u001b[0;34m(\u001b[0m\u001b[0mdcn\u001b[0m\u001b[0;34m,\u001b[0m \u001b[0mdataset\u001b[0m\u001b[0;34m,\u001b[0m \u001b[0mscene_name\u001b[0m\u001b[0;34m,\u001b[0m \u001b[0mimg_a_idx\u001b[0m\u001b[0;34m,\u001b[0m \u001b[0mimg_b_idx\u001b[0m\u001b[0;34m)\u001b[0m\u001b[0;34m\u001b[0m\u001b[0m\n",
      "\u001b[0;32m/home/davidtseng/pytorch-dense-correspondence/dense_correspondence/evaluation/evaluation.pyc\u001b[0m in \u001b[0;36mload_network_from_config\u001b[0;34m(self, name)\u001b[0m\n\u001b[1;32m    123\u001b[0m         \"\"\"\n\u001b[1;32m    124\u001b[0m         \u001b[0;32mif\u001b[0m \u001b[0mname\u001b[0m \u001b[0;32mnot\u001b[0m \u001b[0;32min\u001b[0m \u001b[0mself\u001b[0m\u001b[0;34m.\u001b[0m\u001b[0m_config\u001b[0m\u001b[0;34m[\u001b[0m\u001b[0;34m\"networks\"\u001b[0m\u001b[0;34m]\u001b[0m\u001b[0;34m:\u001b[0m\u001b[0;34m\u001b[0m\u001b[0m\n\u001b[0;32m--> 125\u001b[0;31m             \u001b[0;32mraise\u001b[0m \u001b[0mValueError\u001b[0m\u001b[0;34m(\u001b[0m\u001b[0;34m\"Network %s is not in config file\"\u001b[0m \u001b[0;34m%\u001b[0m\u001b[0;34m(\u001b[0m\u001b[0mname\u001b[0m\u001b[0;34m)\u001b[0m\u001b[0;34m)\u001b[0m\u001b[0;34m\u001b[0m\u001b[0m\n\u001b[0m\u001b[1;32m    126\u001b[0m \u001b[0;34m\u001b[0m\u001b[0m\n\u001b[1;32m    127\u001b[0m \u001b[0;34m\u001b[0m\u001b[0m\n",
      "\u001b[0;31mValueError\u001b[0m: Network 10_scenes_drill is not in config file"
     ]
    }
   ],
   "source": [
    "dcn = dce.load_network_from_config(\"10_scenes_drill\")\n",
    "data = DCE.single_image_pair_keypoint_analysis(dcn, dataset, scene_name, img_a_idx, img_b_idx)"
   ]
  },
  {
   "cell_type": "code",
   "execution_count": null,
   "metadata": {},
   "outputs": [],
   "source": []
  }
 ],
 "metadata": {
  "kernelspec": {
   "display_name": "Python 2",
   "language": "python",
   "name": "python2"
  },
  "language_info": {
   "codemirror_mode": {
    "name": "ipython",
    "version": 2
   },
   "file_extension": ".py",
   "mimetype": "text/x-python",
   "name": "python",
   "nbconvert_exporter": "python",
   "pygments_lexer": "ipython2",
   "version": "2.7.12"
  }
 },
 "nbformat": 4,
 "nbformat_minor": 2
}
